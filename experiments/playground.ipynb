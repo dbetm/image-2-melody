{
 "cells": [
  {
   "cell_type": "code",
   "execution_count": 1,
   "metadata": {},
   "outputs": [],
   "source": [
    "# to avoid to restart kernel when external modules are modified\n",
    "%load_ext autoreload\n",
    "%autoreload 2"
   ]
  },
  {
   "cell_type": "code",
   "execution_count": 2,
   "metadata": {},
   "outputs": [
    {
     "name": "stderr",
     "output_type": "stream",
     "text": [
      "2023-05-24 21:11:54.254423: I tensorflow/core/platform/cpu_feature_guard.cc:182] This TensorFlow binary is optimized to use available CPU instructions in performance-critical operations.\n",
      "To enable the following instructions: AVX2 FMA, in other operations, rebuild TensorFlow with the appropriate compiler flags.\n"
     ]
    }
   ],
   "source": [
    "import os\n",
    "import sys\n",
    "import time\n",
    "import pickle as pkl\n",
    "\n",
    "import cv2\n",
    "import IPython.display as ipd\n",
    "import numpy as np\n",
    "import pandas as pd\n",
    "import matplotlib.pyplot as plt\n",
    "from music21 import instrument, note, stream, chord, duration\n",
    "\n",
    "sys.path.append(\"../.\")\n",
    "\n",
    "from image_to_melody.img_utils import (\n",
    "    get_k_representatives, get_representative_pixels\n",
    ")\n",
    "from image_to_melody.utils import map_value_to_dest\n",
    "from experiments.exp_3.lstm_model import create_network, sample_with_temp"
   ]
  },
  {
   "attachments": {},
   "cell_type": "markdown",
   "metadata": {},
   "source": [
    "### Generate set of unique notes"
   ]
  },
  {
   "cell_type": "code",
   "execution_count": 3,
   "metadata": {},
   "outputs": [],
   "source": [
    "ARTIFACTS_FOLDER = \"exp_3/artifacts/\"\n",
    "\n",
    "with open(os.path.join(ARTIFACTS_FOLDER, \"distincts.pkl\"), \"rb\") as filepath:\n",
    "    distincts = pkl.load(filepath)\n",
    "    note_names, n_notes, duration_names, n_durations = distincts\n",
    "\n",
    "with open(os.path.join(ARTIFACTS_FOLDER, \"lookups.pkl\"), \"rb\") as filepath:\n",
    "    lookups = pkl.load(filepath)\n",
    "    note_to_int, int_to_note, duration_to_int, int_to_duration = lookups"
   ]
  },
  {
   "cell_type": "code",
   "execution_count": 14,
   "metadata": {},
   "outputs": [],
   "source": [
    "single_notes_set = set()\n",
    "\n",
    "for chord, int_val in note_to_int.items():\n",
    "    single_notes_set.add(chord.split(\".\")[0])"
   ]
  },
  {
   "cell_type": "code",
   "execution_count": 25,
   "metadata": {},
   "outputs": [
    {
     "data": {
      "text/plain": [
       "['G5',\n",
       " 'G4',\n",
       " 'G3',\n",
       " 'G2',\n",
       " 'G#4',\n",
       " 'G#3',\n",
       " 'G#2',\n",
       " 'F4',\n",
       " 'F3',\n",
       " 'F2',\n",
       " 'F#5',\n",
       " 'F#4',\n",
       " 'F#3',\n",
       " 'F#2',\n",
       " 'E5',\n",
       " 'E4',\n",
       " 'E3',\n",
       " 'E2',\n",
       " 'E-5',\n",
       " 'E-4',\n",
       " 'E-3',\n",
       " 'E-2',\n",
       " 'D5',\n",
       " 'D4',\n",
       " 'D3',\n",
       " 'D2',\n",
       " 'C5',\n",
       " 'C4',\n",
       " 'C3',\n",
       " 'C2',\n",
       " 'C#5',\n",
       " 'C#4',\n",
       " 'C#3',\n",
       " 'C#2',\n",
       " 'B4',\n",
       " 'B3',\n",
       " 'B2',\n",
       " 'B-4',\n",
       " 'B-3',\n",
       " 'B-2',\n",
       " 'A4',\n",
       " 'A3',\n",
       " 'A2']"
      ]
     },
     "execution_count": 25,
     "metadata": {},
     "output_type": "execute_result"
    }
   ],
   "source": [
    "#single_notes_set.remove(\"START\")\n",
    "\n",
    "single_notes_set = list(single_notes_set)\n",
    "single_notes_set.sort(reverse=True)\n",
    "single_notes_set"
   ]
  },
  {
   "cell_type": "code",
   "execution_count": 26,
   "metadata": {},
   "outputs": [],
   "source": [
    "with open(os.path.join(ARTIFACTS_FOLDER, \"single_notes_set.txt\"), \"w\") as f:\n",
    "    f.write(str(single_notes_set))"
   ]
  },
  {
   "cell_type": "code",
   "execution_count": 4,
   "metadata": {},
   "outputs": [
    {
     "data": {
      "text/plain": [
       "['G5',\n",
       " 'G4',\n",
       " 'G3',\n",
       " 'G2',\n",
       " 'G#4',\n",
       " 'G#3',\n",
       " 'G#2',\n",
       " 'F4',\n",
       " 'F3',\n",
       " 'F2',\n",
       " 'F#5',\n",
       " 'F#4',\n",
       " 'F#3',\n",
       " 'F#2',\n",
       " 'E5',\n",
       " 'E4',\n",
       " 'E3',\n",
       " 'E2',\n",
       " 'E-5',\n",
       " 'E-4',\n",
       " 'E-3',\n",
       " 'E-2',\n",
       " 'D5',\n",
       " 'D4',\n",
       " 'D3',\n",
       " 'D2',\n",
       " 'C5',\n",
       " 'C4',\n",
       " 'C3',\n",
       " 'C2',\n",
       " 'C#5',\n",
       " 'C#4',\n",
       " 'C#3',\n",
       " 'C#2',\n",
       " 'B4',\n",
       " 'B3',\n",
       " 'B2',\n",
       " 'B-4',\n",
       " 'B-3',\n",
       " 'B-2',\n",
       " 'A4',\n",
       " 'A3',\n",
       " 'A2']"
      ]
     },
     "execution_count": 4,
     "metadata": {},
     "output_type": "execute_result"
    }
   ],
   "source": [
    "import ast\n",
    "\n",
    "with open(os.path.join(ARTIFACTS_FOLDER, \"single_notes_set.txt\"), \"r\") as f:\n",
    "    single_notes_loaded = ast.literal_eval(f.read())\n",
    "\n",
    "single_notes_loaded"
   ]
  },
  {
   "attachments": {},
   "cell_type": "markdown",
   "metadata": {},
   "source": [
    "### Read image and get the representative pixels"
   ]
  },
  {
   "cell_type": "code",
   "execution_count": 43,
   "metadata": {},
   "outputs": [],
   "source": [
    "base_path = \"../sample_images\"\n",
    "sample_img_filename = \"003_starry_night.jpg\""
   ]
  },
  {
   "cell_type": "code",
   "execution_count": null,
   "metadata": {},
   "outputs": [],
   "source": [
    "img = cv2.imread(filename=f\"{base_path}/{sample_img_filename}\")\n",
    "hsv_img = cv2.cvtColor(src=img, code=cv2.COLOR_BGR2HSV)\n",
    "\n",
    "plt.imshow(hsv_img)\n",
    "plt.show()"
   ]
  },
  {
   "cell_type": "code",
   "execution_count": 45,
   "metadata": {},
   "outputs": [],
   "source": [
    "number_slices = 5\n",
    "k = 5\n",
    "\n",
    "representative_pixels = get_representative_pixels(\n",
    "    hsv_img, number_slices, k\n",
    ")"
   ]
  },
  {
   "cell_type": "code",
   "execution_count": 46,
   "metadata": {},
   "outputs": [
    {
     "data": {
      "text/plain": [
       "(25, 3)"
      ]
     },
     "execution_count": 46,
     "metadata": {},
     "output_type": "execute_result"
    }
   ],
   "source": [
    "num_pixels = number_slices * k\n",
    "\n",
    "# df_repixels = pd.DataFrame(\n",
    "#     representative_pixels[:num_pixels], columns=[\"red\", \"green\", \"blue\"]\n",
    "# )\n",
    "df_repixels = pd.DataFrame(\n",
    "    representative_pixels, columns=[\"hue\", \"saturation\", \"value\"]\n",
    ")\n",
    "df_repixels.shape"
   ]
  },
  {
   "cell_type": "code",
   "execution_count": 47,
   "metadata": {},
   "outputs": [
    {
     "data": {
      "text/html": [
       "<div>\n",
       "<style scoped>\n",
       "    .dataframe tbody tr th:only-of-type {\n",
       "        vertical-align: middle;\n",
       "    }\n",
       "\n",
       "    .dataframe tbody tr th {\n",
       "        vertical-align: top;\n",
       "    }\n",
       "\n",
       "    .dataframe thead th {\n",
       "        text-align: right;\n",
       "    }\n",
       "</style>\n",
       "<table border=\"1\" class=\"dataframe\">\n",
       "  <thead>\n",
       "    <tr style=\"text-align: right;\">\n",
       "      <th></th>\n",
       "      <th>hue</th>\n",
       "      <th>saturation</th>\n",
       "      <th>value</th>\n",
       "    </tr>\n",
       "  </thead>\n",
       "  <tbody>\n",
       "    <tr>\n",
       "      <th>count</th>\n",
       "      <td>25.000000</td>\n",
       "      <td>25.000000</td>\n",
       "      <td>25.000000</td>\n",
       "    </tr>\n",
       "    <tr>\n",
       "      <th>mean</th>\n",
       "      <td>88.365508</td>\n",
       "      <td>109.440870</td>\n",
       "      <td>110.246827</td>\n",
       "    </tr>\n",
       "    <tr>\n",
       "      <th>std</th>\n",
       "      <td>25.119351</td>\n",
       "      <td>53.579457</td>\n",
       "      <td>51.272999</td>\n",
       "    </tr>\n",
       "    <tr>\n",
       "      <th>min</th>\n",
       "      <td>26.309732</td>\n",
       "      <td>42.420871</td>\n",
       "      <td>36.017928</td>\n",
       "    </tr>\n",
       "    <tr>\n",
       "      <th>25%</th>\n",
       "      <td>82.229142</td>\n",
       "      <td>60.954845</td>\n",
       "      <td>58.299289</td>\n",
       "    </tr>\n",
       "    <tr>\n",
       "      <th>50%</th>\n",
       "      <td>95.322672</td>\n",
       "      <td>106.677301</td>\n",
       "      <td>125.419446</td>\n",
       "    </tr>\n",
       "    <tr>\n",
       "      <th>75%</th>\n",
       "      <td>106.475683</td>\n",
       "      <td>157.782007</td>\n",
       "      <td>155.211060</td>\n",
       "    </tr>\n",
       "    <tr>\n",
       "      <th>max</th>\n",
       "      <td>109.814520</td>\n",
       "      <td>190.478810</td>\n",
       "      <td>178.493077</td>\n",
       "    </tr>\n",
       "  </tbody>\n",
       "</table>\n",
       "</div>"
      ],
      "text/plain": [
       "              hue  saturation       value\n",
       "count   25.000000   25.000000   25.000000\n",
       "mean    88.365508  109.440870  110.246827\n",
       "std     25.119351   53.579457   51.272999\n",
       "min     26.309732   42.420871   36.017928\n",
       "25%     82.229142   60.954845   58.299289\n",
       "50%     95.322672  106.677301  125.419446\n",
       "75%    106.475683  157.782007  155.211060\n",
       "max    109.814520  190.478810  178.493077"
      ]
     },
     "execution_count": 47,
     "metadata": {},
     "output_type": "execute_result"
    }
   ],
   "source": [
    "\"\"\"In OpenCV, the range of values are:\n",
    "\n",
    "HUE: 0-180\n",
    "SATURATION: 0-255\n",
    "VALUE: 0-255\n",
    "\"\"\"\n",
    "\n",
    "df_repixels.describe()"
   ]
  },
  {
   "cell_type": "code",
   "execution_count": 48,
   "metadata": {},
   "outputs": [
    {
     "data": {
      "text/plain": [
       "array([[<Axes: title={'center': 'hue'}>,\n",
       "        <Axes: title={'center': 'saturation'}>],\n",
       "       [<Axes: title={'center': 'value'}>, <Axes: >]], dtype=object)"
      ]
     },
     "execution_count": 48,
     "metadata": {},
     "output_type": "execute_result"
    },
    {
     "data": {
      "image/png": "[encoded data removed]",
      "text/plain": [
       "<Figure size 640x480 with 4 Axes>"
      ]
     },
     "metadata": {
      "image/png": {
       "height": 434,
       "width": 556
      }
     },
     "output_type": "display_data"
    }
   ],
   "source": [
    "df_repixels[[\"hue\", \"saturation\", \"value\"]].hist()"
   ]
  },
  {
   "attachments": {},
   "cell_type": "markdown",
   "metadata": {},
   "source": [
    "### Mapping - Hue values to notes in a linear way"
   ]
  },
  {
   "cell_type": "code",
   "execution_count": 49,
   "metadata": {},
   "outputs": [
    {
     "data": {
      "text/html": [
       "<div>\n",
       "<style scoped>\n",
       "    .dataframe tbody tr th:only-of-type {\n",
       "        vertical-align: middle;\n",
       "    }\n",
       "\n",
       "    .dataframe tbody tr th {\n",
       "        vertical-align: top;\n",
       "    }\n",
       "\n",
       "    .dataframe thead th {\n",
       "        text-align: right;\n",
       "    }\n",
       "</style>\n",
       "<table border=\"1\" class=\"dataframe\">\n",
       "  <thead>\n",
       "    <tr style=\"text-align: right;\">\n",
       "      <th></th>\n",
       "      <th>hue</th>\n",
       "      <th>saturation</th>\n",
       "      <th>value</th>\n",
       "      <th>notes</th>\n",
       "    </tr>\n",
       "  </thead>\n",
       "  <tbody>\n",
       "    <tr>\n",
       "      <th>0</th>\n",
       "      <td>69.970194</td>\n",
       "      <td>60.954845</td>\n",
       "      <td>49.392000</td>\n",
       "      <td>E2</td>\n",
       "    </tr>\n",
       "    <tr>\n",
       "      <th>1</th>\n",
       "      <td>42.729540</td>\n",
       "      <td>51.918248</td>\n",
       "      <td>156.932091</td>\n",
       "      <td>F#5</td>\n",
       "    </tr>\n",
       "    <tr>\n",
       "      <th>2</th>\n",
       "      <td>103.862090</td>\n",
       "      <td>75.514713</td>\n",
       "      <td>158.836920</td>\n",
       "      <td>D2</td>\n",
       "    </tr>\n",
       "    <tr>\n",
       "      <th>3</th>\n",
       "      <td>97.505974</td>\n",
       "      <td>171.629707</td>\n",
       "      <td>60.507450</td>\n",
       "      <td>D4</td>\n",
       "    </tr>\n",
       "    <tr>\n",
       "      <th>4</th>\n",
       "      <td>108.179773</td>\n",
       "      <td>150.409337</td>\n",
       "      <td>137.656489</td>\n",
       "      <td>C5</td>\n",
       "    </tr>\n",
       "  </tbody>\n",
       "</table>\n",
       "</div>"
      ],
      "text/plain": [
       "          hue  saturation       value notes\n",
       "0   69.970194   60.954845   49.392000    E2\n",
       "1   42.729540   51.918248  156.932091   F#5\n",
       "2  103.862090   75.514713  158.836920    D2\n",
       "3   97.505974  171.629707   60.507450    D4\n",
       "4  108.179773  150.409337  137.656489    C5"
      ]
     },
     "execution_count": 49,
     "metadata": {},
     "output_type": "execute_result"
    }
   ],
   "source": [
    "HUE_MAX_VAL = 180\n",
    "# single_notes_loaded\n",
    "thresholds = np.linspace(start=0, stop=HUE_MAX_VAL, num=len(single_notes_loaded))\n",
    "\n",
    "df_repixels[\"notes\"] = df_repixels.apply(\n",
    "    lambda row : map_value_to_dest(row[\"hue\"], single_notes_loaded, thresholds=thresholds), axis=1\n",
    ")\n",
    "\n",
    "df_repixels.head()"
   ]
  },
  {
   "cell_type": "code",
   "execution_count": 50,
   "metadata": {},
   "outputs": [
    {
     "data": {
      "text/plain": [
       "count     25\n",
       "unique    11\n",
       "top       C5\n",
       "freq       6\n",
       "Name: notes, dtype: object"
      ]
     },
     "execution_count": 50,
     "metadata": {},
     "output_type": "execute_result"
    }
   ],
   "source": [
    "df_repixels[\"notes\"].describe(include=\"all\")"
   ]
  },
  {
   "cell_type": "code",
   "execution_count": 51,
   "metadata": {},
   "outputs": [
    {
     "data": {
      "text/plain": [
       "<Axes: >"
      ]
     },
     "execution_count": 51,
     "metadata": {},
     "output_type": "execute_result"
    },
    {
     "data": {
      "image/png": "[encoded data removed]",
      "text/plain": [
       "<Figure size 640x480 with 1 Axes>"
      ]
     },
     "metadata": {
      "image/png": {
       "height": 413,
       "width": 534
      }
     },
     "output_type": "display_data"
    }
   ],
   "source": [
    "df_repixels[\"notes\"].hist()"
   ]
  },
  {
   "attachments": {},
   "cell_type": "markdown",
   "metadata": {},
   "source": [
    "### Generate 25 notes using the LSTModel"
   ]
  },
  {
   "cell_type": "code",
   "execution_count": 52,
   "metadata": {},
   "outputs": [
    {
     "name": "stderr",
     "output_type": "stream",
     "text": [
      "2023-05-24 21:43:55.477282: I tensorflow/core/common_runtime/executor.cc:1197] [/device:CPU:0] (DEBUG INFO) Executor start aborting (this does not indicate an error and you can ignore this message): INVALID_ARGUMENT: You must feed a value for placeholder tensor 'gradients/split_2_grad/concat/split_2/split_dim' with dtype int32\n",
      "\t [[{{node gradients/split_2_grad/concat/split_2/split_dim}}]]\n",
      "2023-05-24 21:43:55.480411: I tensorflow/core/common_runtime/executor.cc:1197] [/device:CPU:0] (DEBUG INFO) Executor start aborting (this does not indicate an error and you can ignore this message): INVALID_ARGUMENT: You must feed a value for placeholder tensor 'gradients/split_grad/concat/split/split_dim' with dtype int32\n",
      "\t [[{{node gradients/split_grad/concat/split/split_dim}}]]\n",
      "2023-05-24 21:43:55.483283: I tensorflow/core/common_runtime/executor.cc:1197] [/device:CPU:0] (DEBUG INFO) Executor start aborting (this does not indicate an error and you can ignore this message): INVALID_ARGUMENT: You must feed a value for placeholder tensor 'gradients/split_1_grad/concat/split_1/split_dim' with dtype int32\n",
      "\t [[{{node gradients/split_1_grad/concat/split_1/split_dim}}]]\n",
      "2023-05-24 21:43:56.057790: I tensorflow/core/common_runtime/executor.cc:1197] [/device:CPU:0] (DEBUG INFO) Executor start aborting (this does not indicate an error and you can ignore this message): INVALID_ARGUMENT: You must feed a value for placeholder tensor 'gradients/split_2_grad/concat/split_2/split_dim' with dtype int32\n",
      "\t [[{{node gradients/split_2_grad/concat/split_2/split_dim}}]]\n",
      "2023-05-24 21:43:56.060618: I tensorflow/core/common_runtime/executor.cc:1197] [/device:CPU:0] (DEBUG INFO) Executor start aborting (this does not indicate an error and you can ignore this message): INVALID_ARGUMENT: You must feed a value for placeholder tensor 'gradients/split_grad/concat/split/split_dim' with dtype int32\n",
      "\t [[{{node gradients/split_grad/concat/split/split_dim}}]]\n",
      "2023-05-24 21:43:56.063041: I tensorflow/core/common_runtime/executor.cc:1197] [/device:CPU:0] (DEBUG INFO) Executor start aborting (this does not indicate an error and you can ignore this message): INVALID_ARGUMENT: You must feed a value for placeholder tensor 'gradients/split_1_grad/concat/split_1/split_dim' with dtype int32\n",
      "\t [[{{node gradients/split_1_grad/concat/split_1/split_dim}}]]\n",
      "/home/david/Dev/l/image-2-melody/.venv/lib/python3.8/site-packages/keras/optimizers/legacy/rmsprop.py:143: UserWarning: The `lr` argument is deprecated, use `learning_rate` instead.\n",
      "  super().__init__(name, **kwargs)\n"
     ]
    },
    {
     "name": "stdout",
     "output_type": "stream",
     "text": [
      "Model: \"model_4\"\n",
      "__________________________________________________________________________________________________\n",
      " Layer (type)                   Output Shape         Param #     Connected to                     \n",
      "==================================================================================================\n",
      " input_5 (InputLayer)           [(None, None)]       0           []                               \n",
      "                                                                                                  \n",
      " input_6 (InputLayer)           [(None, None)]       0           []                               \n",
      "                                                                                                  \n",
      " embedding_4 (Embedding)        (None, None, 100)    47000       ['input_5[0][0]']                \n",
      "                                                                                                  \n",
      " embedding_5 (Embedding)        (None, None, 100)    1700        ['input_6[0][0]']                \n",
      "                                                                                                  \n",
      " concatenate_2 (Concatenate)    (None, None, 200)    0           ['embedding_4[0][0]',            \n",
      "                                                                  'embedding_5[0][0]']            \n",
      "                                                                                                  \n",
      " lstm_4 (LSTM)                  (None, None, 256)    467968      ['concatenate_2[0][0]']          \n",
      "                                                                                                  \n",
      " lstm_5 (LSTM)                  (None, None, 256)    525312      ['lstm_4[0][0]']                 \n",
      "                                                                                                  \n",
      " dense_2 (Dense)                (None, None, 1)      257         ['lstm_5[0][0]']                 \n",
      "                                                                                                  \n",
      " reshape_2 (Reshape)            (None, None)         0           ['dense_2[0][0]']                \n",
      "                                                                                                  \n",
      " activation_2 (Activation)      (None, None)         0           ['reshape_2[0][0]']              \n",
      "                                                                                                  \n",
      " repeat_vector_2 (RepeatVector)  (None, 256, None)   0           ['activation_2[0][0]']           \n",
      "                                                                                                  \n",
      " permute_2 (Permute)            (None, None, 256)    0           ['repeat_vector_2[0][0]']        \n",
      "                                                                                                  \n",
      " multiply_2 (Multiply)          (None, None, 256)    0           ['lstm_5[0][0]',                 \n",
      "                                                                  'permute_2[0][0]']              \n",
      "                                                                                                  \n",
      " lambda_2 (Lambda)              (None, 256)          0           ['multiply_2[0][0]']             \n",
      "                                                                                                  \n",
      " pitch (Dense)                  (None, 470)          120790      ['lambda_2[0][0]']               \n",
      "                                                                                                  \n",
      " duration (Dense)               (None, 17)           4369        ['lambda_2[0][0]']               \n",
      "                                                                                                  \n",
      "==================================================================================================\n",
      "Total params: 1,167,396\n",
      "Trainable params: 1,167,396\n",
      "Non-trainable params: 0\n",
      "__________________________________________________________________________________________________\n"
     ]
    }
   ],
   "source": [
    "weights_filepath = os.path.join(ARTIFACTS_FOLDER, \"weights.h5\")\n",
    "use_attention = True\n",
    "embedding_size = 100\n",
    "rnn_units = 256\n",
    "\n",
    "model, att_model = create_network(\n",
    "    n_notes, n_durations, embedding_size, rnn_units, use_attention\n",
    ")\n",
    "\n",
    "# Load the weights to each node\n",
    "model.load_weights(weights_filepath)\n",
    "model.summary()\n"
   ]
  },
  {
   "cell_type": "code",
   "execution_count": 53,
   "metadata": {},
   "outputs": [
    {
     "data": {
      "text/plain": [
       "(['START',\n",
       "  'F#5',\n",
       "  'D2',\n",
       "  'D4',\n",
       "  'C5',\n",
       "  'F4',\n",
       "  'E-2',\n",
       "  'E-3',\n",
       "  'D5',\n",
       "  'D2',\n",
       "  'E-3',\n",
       "  'E-2',\n",
       "  'D2',\n",
       "  'D2',\n",
       "  'C5',\n",
       "  'D4',\n",
       "  'E-4',\n",
       "  'C5',\n",
       "  'D2',\n",
       "  'C5',\n",
       "  'D4',\n",
       "  'E5',\n",
       "  'C5',\n",
       "  'C5',\n",
       "  'F4'],\n",
       " 25)"
      ]
     },
     "execution_count": 53,
     "metadata": {},
     "output_type": "execute_result"
    }
   ],
   "source": [
    "# prediction params\n",
    "notes_temp = 0.5\n",
    "duration_temp = 0.5\n",
    "max_extra_notes = 50\n",
    "max_seq_len = 25\n",
    "seq_len = 25\n",
    "\n",
    "notes = list()\n",
    "durations = list()\n",
    "\n",
    "for idx, row in df_repixels.iterrows():\n",
    "    notes.append(row[\"notes\"])\n",
    "    durations.append(1)\n",
    "\n",
    "notes[0] = \"START\"\n",
    "durations[0] = 0\n",
    "\n",
    "sequence_lenght = len(notes)\n",
    "\n",
    "notes, sequence_lenght"
   ]
  },
  {
   "cell_type": "code",
   "execution_count": 54,
   "metadata": {},
   "outputs": [
    {
     "name": "stderr",
     "output_type": "stream",
     "text": [
      "2023-05-24 21:43:59.042630: I tensorflow/core/common_runtime/executor.cc:1197] [/device:CPU:0] (DEBUG INFO) Executor start aborting (this does not indicate an error and you can ignore this message): INVALID_ARGUMENT: You must feed a value for placeholder tensor 'gradients/split_2_grad/concat/split_2/split_dim' with dtype int32\n",
      "\t [[{{node gradients/split_2_grad/concat/split_2/split_dim}}]]\n",
      "2023-05-24 21:43:59.046158: I tensorflow/core/common_runtime/executor.cc:1197] [/device:CPU:0] (DEBUG INFO) Executor start aborting (this does not indicate an error and you can ignore this message): INVALID_ARGUMENT: You must feed a value for placeholder tensor 'gradients/split_grad/concat/split/split_dim' with dtype int32\n",
      "\t [[{{node gradients/split_grad/concat/split/split_dim}}]]\n",
      "2023-05-24 21:43:59.049278: I tensorflow/core/common_runtime/executor.cc:1197] [/device:CPU:0] (DEBUG INFO) Executor start aborting (this does not indicate an error and you can ignore this message): INVALID_ARGUMENT: You must feed a value for placeholder tensor 'gradients/split_1_grad/concat/split_1/split_dim' with dtype int32\n",
      "\t [[{{node gradients/split_1_grad/concat/split_1/split_dim}}]]\n",
      "2023-05-24 21:43:59.590563: I tensorflow/core/common_runtime/executor.cc:1197] [/device:CPU:0] (DEBUG INFO) Executor start aborting (this does not indicate an error and you can ignore this message): INVALID_ARGUMENT: You must feed a value for placeholder tensor 'gradients/split_2_grad/concat/split_2/split_dim' with dtype int32\n",
      "\t [[{{node gradients/split_2_grad/concat/split_2/split_dim}}]]\n",
      "2023-05-24 21:43:59.593589: I tensorflow/core/common_runtime/executor.cc:1197] [/device:CPU:0] (DEBUG INFO) Executor start aborting (this does not indicate an error and you can ignore this message): INVALID_ARGUMENT: You must feed a value for placeholder tensor 'gradients/split_grad/concat/split/split_dim' with dtype int32\n",
      "\t [[{{node gradients/split_grad/concat/split/split_dim}}]]\n",
      "2023-05-24 21:43:59.595977: I tensorflow/core/common_runtime/executor.cc:1197] [/device:CPU:0] (DEBUG INFO) Executor start aborting (this does not indicate an error and you can ignore this message): INVALID_ARGUMENT: You must feed a value for placeholder tensor 'gradients/split_1_grad/concat/split_1/split_dim' with dtype int32\n",
      "\t [[{{node gradients/split_1_grad/concat/split_1/split_dim}}]]\n"
     ]
    },
    {
     "name": "stdout",
     "output_type": "stream",
     "text": [
      "Generated sequence of 50 notes\n"
     ]
    }
   ],
   "source": [
    "prediction_output = []\n",
    "notes_input_sequence = []\n",
    "durations_input_sequence = []\n",
    "\n",
    "overall_preds = []\n",
    "\n",
    "for n, d in zip(notes, durations):\n",
    "    note_int = note_to_int[n]\n",
    "    duration_int = duration_to_int[d]\n",
    "    \n",
    "    notes_input_sequence.append(note_int)\n",
    "    durations_input_sequence.append(duration_int)\n",
    "    \n",
    "    #prediction_output.append([n, d])\n",
    "    \n",
    "    if n != \"START\":\n",
    "        midi_note = note.Note(n)\n",
    "\n",
    "        new_note = np.zeros(128)\n",
    "        new_note[midi_note.pitch.midi] = 1\n",
    "        #overall_preds.append(new_note)\n",
    "\n",
    "\n",
    "for note_index in range(max_extra_notes):\n",
    "    prediction_input = [\n",
    "        np.array([notes_input_sequence]), np.array([durations_input_sequence])\n",
    "    ]\n",
    "\n",
    "    notes_prediction, durations_prediction = model.predict(prediction_input, verbose=0)\n",
    "    \n",
    "    new_note = np.zeros(128)\n",
    "    \n",
    "    for idx, n_i in enumerate(notes_prediction[0]):\n",
    "        try:\n",
    "            note_name = int_to_note[idx]\n",
    "            midi_note = note.Note(note_name)\n",
    "            new_note[midi_note.pitch.midi] = n_i\n",
    "        except:\n",
    "            pass\n",
    "        \n",
    "    overall_preds.append(new_note)\n",
    "    \n",
    "    i1 = sample_with_temp(notes_prediction[0], notes_temp)\n",
    "    i2 = sample_with_temp(durations_prediction[0], duration_temp)\n",
    "\n",
    "    note_result = int_to_note[i1]\n",
    "    duration_result = int_to_duration[i2]\n",
    "    \n",
    "    prediction_output.append([note_result, duration_result])\n",
    "\n",
    "    notes_input_sequence.append(i1)\n",
    "    durations_input_sequence.append(i2)\n",
    "    \n",
    "    if len(notes_input_sequence) > max_seq_len:\n",
    "        notes_input_sequence = notes_input_sequence[1:]\n",
    "        durations_input_sequence = durations_input_sequence[1:]\n",
    "        \n",
    "    if note_result == 'START':\n",
    "        break\n",
    "\n",
    "overall_preds = np.transpose(np.array(overall_preds)) \n",
    "print('Generated sequence of {} notes'.format(len(prediction_output)))"
   ]
  },
  {
   "cell_type": "code",
   "execution_count": 55,
   "metadata": {},
   "outputs": [
    {
     "data": {
      "text/plain": [
       "[['G4', 1.0],\n",
       " ['A4', 1.0],\n",
       " ['B-3', 1.0],\n",
       " ['B-3', 1.0],\n",
       " ['G3', 1.0],\n",
       " ['B-3', 1.0],\n",
       " ['B-3', 1.0],\n",
       " ['E-3', 1.0],\n",
       " ['D3.A3', 1.0],\n",
       " ['F2', 1.0],\n",
       " ['E-3', 1.0],\n",
       " ['E4', 1.0],\n",
       " ['G#3', 1.0],\n",
       " ['B-3', 1.0],\n",
       " ['C#4', 1.0],\n",
       " ['G3', 1.0],\n",
       " ['F#3', 1.0],\n",
       " ['G#3', 1.0],\n",
       " ['E4', 1.0],\n",
       " ['B3', 1.0],\n",
       " ['B3', 1.0],\n",
       " ['B3', 1.0],\n",
       " ['B3', 1.0],\n",
       " ['A3', 1.0],\n",
       " ['A4', 1.0],\n",
       " ['G3', 1.0],\n",
       " ['G3', 1.0],\n",
       " ['G3', 0.5],\n",
       " ['G#3', 0.5],\n",
       " ['G3', 0.5],\n",
       " ['G#3', 1.0],\n",
       " ['B-3', 1.0],\n",
       " ['G3', 0.5],\n",
       " ['G3', 0.5],\n",
       " ['E-3', 1.0],\n",
       " ['G3', 1.0],\n",
       " ['G#3', 1.0],\n",
       " ['E-3', 0.5],\n",
       " ['C#3', 1.0],\n",
       " ['G3', 1.0],\n",
       " ['A3.B3', 1.0],\n",
       " ['A3', 1.0],\n",
       " ['C#3', 0.5],\n",
       " ['G3', 1.0],\n",
       " ['G3', 1.0],\n",
       " ['G3', 0.5],\n",
       " ['C#3', 0.5],\n",
       " ['G3', 0.5],\n",
       " ['E-3', 1.0],\n",
       " ['E-3', 1.0]]"
      ]
     },
     "execution_count": 55,
     "metadata": {},
     "output_type": "execute_result"
    }
   ],
   "source": [
    "prediction_output"
   ]
  },
  {
   "attachments": {},
   "cell_type": "markdown",
   "metadata": {},
   "source": [
    "#### Generate MIDI FILE"
   ]
  },
  {
   "cell_type": "code",
   "execution_count": 56,
   "metadata": {},
   "outputs": [
    {
     "data": {
      "text/plain": [
       "'tmp/melody-20230524-21:44:08.mid'"
      ]
     },
     "execution_count": 56,
     "metadata": {},
     "output_type": "execute_result"
    }
   ],
   "source": [
    "import time\n",
    "\n",
    "output_midi_file = f\"melody-{time.strftime('%Y%m%d-%H:%M:%S')}.mid\"\n",
    "output_midi_file = os.path.join(\"tmp\", output_midi_file)\n",
    "output_midi_file\n",
    "\n",
    "midi_stream = stream.Stream()\n",
    "\n",
    "# create note and chord objects based on the values generated by the model\n",
    "for pattern in prediction_output:\n",
    "    note_pattern, duration_pattern = pattern\n",
    "    # pattern is a chord\n",
    "    if ('.' in note_pattern):\n",
    "        notes_in_chord = note_pattern.split('.')\n",
    "        chord_notes = []\n",
    "        for current_note in notes_in_chord:\n",
    "            new_note = note.Note(current_note)\n",
    "            new_note.duration = duration.Duration(duration_pattern)\n",
    "            new_note.storedInstrument = instrument.Violoncello()\n",
    "            chord_notes.append(new_note)\n",
    "        new_chord = chord.Chord(chord_notes)\n",
    "        midi_stream.append(new_chord)\n",
    "    elif note_pattern == 'rest':\n",
    "    # pattern is a rest\n",
    "        new_note = note.Rest()\n",
    "        new_note.duration = duration.Duration(duration_pattern)\n",
    "        new_note.storedInstrument = instrument.Violoncello()\n",
    "        midi_stream.append(new_note)\n",
    "    elif note_pattern != 'START':\n",
    "    # pattern is a note\n",
    "        new_note = note.Note(note_pattern)\n",
    "        new_note.duration = duration.Duration(duration_pattern)\n",
    "        new_note.storedInstrument = instrument.Violoncello()\n",
    "        midi_stream.append(new_note)\n",
    "\n",
    "midi_stream.write(\"midi\", fp=output_midi_file)"
   ]
  },
  {
   "attachments": {},
   "cell_type": "markdown",
   "metadata": {},
   "source": [
    "### Sinthesize"
   ]
  },
  {
   "cell_type": "code",
   "execution_count": 57,
   "metadata": {},
   "outputs": [],
   "source": [
    "from midi2audio import FluidSynth\n",
    "\n",
    "SAMPLE_RATE = 44100\n",
    "# Replace this with the path to your SoundFont file\n",
    "soundfont_path = (\n",
    "    \"/home/david/Descargas/GeneralUser_GS_1.471/GeneralUser GS 1.471/GeneralUser GS v1.471.sf2\"\n",
    ")\n",
    "\n",
    "def synthesize(midi_file_path: str, output_path: str, sample_rate: int):\n",
    "    fs = FluidSynth(sound_font=soundfont_path, sample_rate=sample_rate)\n",
    "\n",
    "    fs.midi_to_audio(midi_file_path, output_path)"
   ]
  },
  {
   "cell_type": "code",
   "execution_count": null,
   "metadata": {},
   "outputs": [],
   "source": [
    "output_filepath = output_midi_file.replace(\"mid\", \"mp3\")\n",
    "\n",
    "synthesize(\n",
    "    output_midi_file, output_filepath, sample_rate=SAMPLE_RATE\n",
    ")\n",
    "\n",
    "ipd.Audio(data=output_filepath, rate=SAMPLE_RATE, autoplay=True)"
   ]
  }
 ],
 "metadata": {
  "interpreter": {
   "hash": "2a57ffb013e92015e735f5d18243ee3d7cd98796efd168b04414c4364903b86f"
  },
  "kernelspec": {
   "display_name": "Python 3.8.13 ('.venv': venv)",
   "language": "python",
   "name": "python3"
  },
  "language_info": {
   "codemirror_mode": {
    "name": "ipython",
    "version": 3
   },
   "file_extension": ".py",
   "mimetype": "text/x-python",
   "name": "python",
   "nbconvert_exporter": "python",
   "pygments_lexer": "ipython3",
   "version": "3.8.13"
  },
  "orig_nbformat": 4
 },
 "nbformat": 4,
 "nbformat_minor": 2
}
